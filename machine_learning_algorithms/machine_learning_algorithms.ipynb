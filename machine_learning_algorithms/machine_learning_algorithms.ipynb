{
 "cells": [
  {
   "cell_type": "markdown",
   "metadata": {},
   "source": [
    "# Algorithms of machine learning\n",
    "A review of the most common methods found in machine learning optimization problems."
   ]
  },
  {
   "cell_type": "markdown",
   "metadata": {},
   "source": [
    "## Regression\n",
    "### 1. Least squares fitting\n",
    "\n",
    "Fit a line (or a plane) that minimized the sum of the square of the error. Evaluate regression quality with R or adjusted R square."
   ]
  },
  {
   "cell_type": "code",
   "execution_count": 10,
   "metadata": {},
   "outputs": [
    {
     "name": "stdout",
     "output_type": "stream",
     "text": [
      "LSF using numpy, from formula= [ 4.53153164  3.57639523]\n",
      "LSF using linalg= [ 4.53153164  3.57639523]\n",
      "LSF using polyfit= [ 4.53153164  3.57639523]\n"
     ]
    },
    {
     "data": {
      "image/png": "[encoded data removed]",
      "text/plain": [
       "<matplotlib.figure.Figure at 0x7f428de3db70>"
      ]
     },
     "metadata": {},
     "output_type": "display_data"
    }
   ],
   "source": [
    "import numpy as np\n",
    "import matplotlib.pyplot as plt\n",
    "%matplotlib inline\n",
    "\n",
    "#generate data\n",
    "f = np.poly1d([5, 1])\n",
    "X = np.linspace(0, 10, 30)\n",
    "Y = f(X) + 6*np.random.normal(size=len(X))\n",
    "\n",
    "#run\n",
    "#1. least squares using numpy\n",
    "a = np.vstack([X, np.ones(len(X))]).T\n",
    "z1=np.dot(np.linalg.inv(np.dot(a.T, a)), np.dot(a.T, Y))\n",
    "print(\"LSF using numpy, from formula=\",z1)\n",
    "\n",
    "#2. least squares using linalg\n",
    "z2=np.linalg.lstsq(a, Y)[0]   #use np.linalg.lstsq(a, Y,rcond=None) depending on your version of python\n",
    "print(\"LSF using linalg=\",z2)\n",
    "\n",
    "#least squares using polyfit\n",
    "z3=np.polyfit(X, Y, 1)\n",
    "print(\"LSF using polyfit=\",z3)\n",
    "\n",
    "#plot\n",
    "plt.plot(X, Y, 'or')\n",
    "plt.plot(X,z3[1]+z3[0]*X)\n",
    "plt.show()\n"
   ]
  },
  {
   "cell_type": "markdown",
   "metadata": {},
   "source": [
    "### 2. Principal component analysis\n",
    "\n",
    "Understand correlated data dispersion better: find most likely correlation factors and show each of them on a specific axis."
   ]
  },
  {
   "cell_type": "code",
   "execution_count": 11,
   "metadata": {},
   "outputs": [
    {
     "name": "stdout",
     "output_type": "stream",
     "text": [
      "PCA using sklearn= [[-0.94446029 -0.32862557]\n",
      " [-0.32862557  0.94446029]]\n"
     ]
    },
    {
     "data": {
      "image/png": "[encoded data removed]",
      "text/plain": [
       "<matplotlib.figure.Figure at 0x7f4297ea30b8>"
      ]
     },
     "metadata": {},
     "output_type": "display_data"
    }
   ],
   "source": [
    "%matplotlib inline\n",
    "import numpy as np\n",
    "import matplotlib.pyplot as plt\n",
    "from sklearn.decomposition import PCA\n",
    "\n",
    "#generate data\n",
    "rng = np.random.RandomState(1)\n",
    "X = np.dot(rng.rand(2, 2), rng.randn(2, 200)).T\n",
    "plt.scatter(X[:, 0], X[:, 1])\n",
    "plt.axis('equal');\n",
    "\n",
    "#run\n",
    "#1. PCA using sklearn\n",
    "z = PCA(n_components=2)\n",
    "z.fit(X)\n",
    "print(\"PCA using sklearn=\",z.components_)\n",
    "\n",
    "# plot\n",
    "def draw_vector(v0, v1, ax=None):\n",
    "    ax = ax or plt.gca()\n",
    "    arrowprops=dict(arrowstyle='->',   linewidth=2,    shrinkA=0, shrinkB=0)\n",
    "    ax.annotate('', v1, v0, arrowprops=arrowprops)\n",
    "\n",
    "plt.scatter(X[:, 0], X[:, 1], alpha=1,color='red')\n",
    "for length, vector in zip(z.explained_variance_, z.components_):\n",
    "    v = vector * 3 * np.sqrt(length)\n",
    "    draw_vector(z.mean_, z.mean_ + v)\n",
    "plt.axis('equal');"
   ]
  },
  {
   "cell_type": "markdown",
   "metadata": {},
   "source": [
    "### 3. Constrained Linear Regression\n",
    "\n",
    "Sometimes, the regression will miss understanding noise and erratic data. Having specific constraints on the regression coefficients can help reduce these artefacts."
   ]
  },
  {
   "cell_type": "markdown",
   "metadata": {},
   "source": [
    "***\n",
    "### 4. K-means clustering\n",
    "\n",
    "Clustering data into set based on the distance between the sets."
   ]
  },
  {
   "cell_type": "code",
   "execution_count": 12,
   "metadata": {},
   "outputs": [
    {
     "name": "stdout",
     "output_type": "stream",
     "text": [
      "Labels [2 0 2 2 2 2 2 0 1 2 0 2 2 1 1 2 0 1 0 0 0 1 2 0 2 2 2 1 1 1 1 0 2 2 2 2 2\n",
      " 0 2 2 1 2 2 1 1 1 0 2 1 1 2 0 1 2 0 0 1 1 1 2 0 2 1 0 1 0 0 2 1 0 1 0 2 2\n",
      " 2 0 1 0 2 2 1 0 1 1 1 1 2 1 1 1 1 2 1 1 1 1 2 0 0 2 2 2 2 0 1 2 1 2 1 1 0\n",
      " 2 0 1 1 2 1 2 1 2 0 1 1 0 1 0 2 0 1 1 2 1 0 2 2 2 2 2 2 0 1 1 1 1 1 1 1 2\n",
      " 1 1 1 0 2 2 1 1 2 2 2 1 2 1 1 1 0 2 0 2 1 1 0 2 0 1 0 2 2 1 1 1 2 1 1 2 1\n",
      " 1 2 2 2 0 1 0 2 1 2 0 1 0 2 1]\n",
      "Clusters [[ 1.17023703  0.39240522]\n",
      " [ 0.17282331  0.05569097]\n",
      " [-0.78382375 -0.30123923]]\n"
     ]
    },
    {
     "data": {
      "image/png": "[encoded data removed]",
      "text/plain": [
       "<matplotlib.figure.Figure at 0x7f428b18a128>"
      ]
     },
     "metadata": {},
     "output_type": "display_data"
    }
   ],
   "source": [
    "import matplotlib.pyplot as plt\n",
    "from sklearn.cluster import KMeans\n",
    "import numpy as np\n",
    "\n",
    "#generate data\n",
    "rng = np.random.RandomState(1)\n",
    "X = np.dot(rng.rand(2, 2), rng.randn(2, 200)).T\n",
    "plt.scatter(X[:, 0], X[:, 1])\n",
    "plt.axis('equal');\n",
    "\n",
    "#run\n",
    "kmeans = KMeans(n_clusters=3, random_state=0).fit(X)\n",
    "kmeans.predict([[0, 0], [4, 4]])\n",
    "\n",
    "#plot\n",
    "C1=np.where(kmeans.labels_ ==0)\n",
    "C2=np.where(kmeans.labels_ ==1)\n",
    "C3=np.where(kmeans.labels_ ==2)\n",
    "plt.scatter(X[C1, 0], X[C1, 1],color='red')\n",
    "plt.scatter(X[C2, 0], X[C2, 1],color='black')\n",
    "plt.scatter(X[C3, 0], X[C3, 1],color='blue')\n",
    "\n",
    "print(\"Labels\",kmeans.labels_)\n",
    "print(\"Clusters\",kmeans.cluster_centers_)\n"
   ]
  },
  {
   "cell_type": "markdown",
   "metadata": {},
   "source": [
    "### Logistic regression\n",
    "Logistic regression is used when a dependant variable determines an outcome that is binary values."
   ]
  },
  {
   "cell_type": "code",
   "execution_count": 14,
   "metadata": {},
   "outputs": [
    {
     "data": {
      "text/plain": [
       "<matplotlib.collections.PathCollection at 0x7f428afdc5f8>"
      ]
     },
     "execution_count": 14,
     "metadata": {},
     "output_type": "execute_result"
    },
    {
     "data": {
      "image/png": "[encoded data removed]",
      "text/plain": [
       "<matplotlib.figure.Figure at 0x7f428b0ae4a8>"
      ]
     },
     "metadata": {},
     "output_type": "display_data"
    }
   ],
   "source": [
    "import matplotlib.pyplot as plt\n",
    "import numpy as np\n",
    "from sklearn.linear_model import LogisticRegression\n",
    "%matplotlib inline\n",
    "\n",
    "#generate data\n",
    "rng = np.random.RandomState(1)\n",
    "X = np.dot(rng.rand(2, 2), rng.randn(2, 200)).T\n",
    "y = rng.randint(2,size=200)\n",
    "\n",
    "#run\n",
    "logistic = LogisticRegression()\n",
    "fit=logistic.fit(X,y)\n",
    "z=logistic.predict(X)\n",
    "\n",
    "#plot\n",
    "plt.scatter(X[:,0],X[:,1])\n",
    "C1=np.where(z==1)\n",
    "plt.scatter(X[C1, 0], X[C1, 1],color='black')"
   ]
  },
  {
   "cell_type": "markdown",
   "metadata": {},
   "source": [
    "### Support Vector Machines\n",
    " Separate data in two with an hyperplane, chosing the one that leaves the maximum distance to the nearest point : it is the maximum margin hyperplane."
   ]
  },
  {
   "cell_type": "code",
   "execution_count": 15,
   "metadata": {},
   "outputs": [
    {
     "data": {
      "text/plain": [
       "SVC(C=1.0, cache_size=200, class_weight=None, coef0=0.0,\n",
       "  decision_function_shape='ovr', degree=3, gamma='auto', kernel='rbf',\n",
       "  max_iter=-1, probability=False, random_state=None, shrinking=True,\n",
       "  tol=0.001, verbose=False)"
      ]
     },
     "execution_count": 15,
     "metadata": {},
     "output_type": "execute_result"
    }
   ],
   "source": [
    "from sklearn import svm\n",
    "\n",
    "#data\n",
    "X = [[0, 0], [1, 1]]\n",
    "y = [0, 1]\n",
    "\n",
    "#run\n",
    "clf = svm.SVC()\n",
    "clf.fit(X, y)  \n",
    "clf.predict([[2., 2.]])\n",
    "\n"
   ]
  },
  {
   "cell_type": "code",
   "execution_count": null,
   "metadata": {},
   "outputs": [],
   "source": []
  }
 ],
 "metadata": {
  "kernelspec": {
   "display_name": "Python 3",
   "language": "python",
   "name": "python3"
  },
  "language_info": {
   "codemirror_mode": {
    "name": "ipython",
    "version": 3
   },
   "file_extension": ".py",
   "mimetype": "text/x-python",
   "name": "python",
   "nbconvert_exporter": "python",
   "pygments_lexer": "ipython3",
   "version": "3.6.3"
  }
 },
 "nbformat": 4,
 "nbformat_minor": 2
}
