{
 "cells": [
  {
   "cell_type": "code",
   "execution_count": 2,
   "metadata": {},
   "outputs": [
    {
     "name": "stdout",
     "output_type": "stream",
     "text": [
      "Collecting pydy\n",
      "  Downloading https://files.pythonhosted.org/packages/e8/b0/cae58edf0c540497c6d4f698655eddc4f61d17fdbfa9b08b05f4cf146e48/pydy-0.4.0.tar.gz (5.3MB)\n",
      "\u001b[K    100% |████████████████████████████████| 5.3MB 223kB/s \n",
      "\u001b[?25hRequirement already satisfied: numpy>=1.11.0 in /home/ubuntu/.pyenv/versions/anaconda3-5.0.1/lib/python3.6/site-packages (from pydy)\n",
      "Requirement already satisfied: scipy>=0.17.1 in /home/ubuntu/.pyenv/versions/anaconda3-5.0.1/lib/python3.6/site-packages (from pydy)\n",
      "Requirement already satisfied: sympy>=0.7.6.1 in /home/ubuntu/.pyenv/versions/anaconda3-5.0.1/lib/python3.6/site-packages (from pydy)\n",
      "Building wheels for collected packages: pydy\n",
      "  Running setup.py bdist_wheel for pydy ... \u001b[?25ldone\n",
      "\u001b[?25h  Stored in directory: /home/ubuntu/.cache/pip/wheels/ad/a8/cc/a4587aca6d100cef465cf34d01fcab2f04d548f1d828ea6fca\n",
      "Successfully built pydy\n",
      "Installing collected packages: pydy\n",
      "Successfully installed pydy-0.4.0\n",
      "\u001b[33mYou are using pip version 9.0.1, however version 10.0.1 is available.\n",
      "You should consider upgrading via the 'pip install --upgrade pip' command.\u001b[0m\n"
     ]
    }
   ],
   "source": [
    "import sys\n",
    "!{sys.executable} -m pip install pydy"
   ]
  },
  {
   "cell_type": "code",
   "execution_count": null,
   "metadata": {},
   "outputs": [],
   "source": []
  }
 ],
 "metadata": {
  "kernelspec": {
   "display_name": "Python 3",
   "language": "python",
   "name": "python3"
  },
  "language_info": {
   "codemirror_mode": {
    "name": "ipython",
    "version": 3
   },
   "file_extension": ".py",
   "mimetype": "text/x-python",
   "name": "python",
   "nbconvert_exporter": "python",
   "pygments_lexer": "ipython3",
   "version": "3.6.3"
  }
 },
 "nbformat": 4,
 "nbformat_minor": 2
}
