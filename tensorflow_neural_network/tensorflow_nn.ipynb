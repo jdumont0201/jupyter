{
 "cells": [
  {
   "cell_type": "markdown",
   "metadata": {},
   "source": [
    "# Simple Classification using Neural Networks and TensorFlow\n",
    "J. Dumont\n"
   ]
  },
  {
   "cell_type": "markdown",
   "metadata": {},
   "source": [
    "The goal of this notebook is to classify pictures of balls into two groups: \n",
    "* tennis balls \n",
    "* non tennis balls. \n",
    "\n",
    "To do so, we run a __simple three layers neural network__ using __backpropagation__ algorithm, __Xavier initialization__ and __Adam optimizer__.\n",
    "\n",
    "The algorithm is trained over $(X_{train},Y_{train})$ to classify binarily in $C=2$ classes and is tested over $(X_{train},Y_{train})$.\n",
    "\n",
    "In this notebook, we will \n",
    "* introduce the data loader and some utility functions\n",
    "* build the model\n",
    "* run the algorithm over the loaded picture sets\n",
    "\n",
    "***"
   ]
  },
  {
   "cell_type": "markdown",
   "metadata": {},
   "source": [
    "## A. Data loader\n",
    "Let's import common libraries to manipulate arrays, images, Tensorflow."
   ]
  },
  {
   "cell_type": "code",
   "execution_count": 2,
   "metadata": {},
   "outputs": [],
   "source": [
    "#################################################################\n",
    "# IMPORTS\n",
    "#################################################################\n",
    "import math\n",
    "import numpy as np\n",
    "import matplotlib.pyplot as plt\n",
    "import tensorflow as tf\n",
    "from tensorflow.python.framework import ops\n",
    "from PIL import Image, ImageOps\n",
    "%matplotlib inline"
   ]
  },
  {
   "cell_type": "markdown",
   "metadata": {},
   "source": [
    "Defining some global variables to import pictures: "
   ]
  },
  {
   "cell_type": "code",
   "execution_count": 13,
   "metadata": {},
   "outputs": [],
   "source": [
    "#################################################################\n",
    "# DATASET VARIABLES\n",
    "#################################################################\n",
    "set_nb_pictures_train=13\n",
    "set_nb_pictures_test=11\n",
    "set_path=\"./dataset/\"\n",
    "set_path_train=set_path+\"train/\"\n",
    "set_path_test=set_path+\"test/\"\n",
    "set_train_cropped_path=set_path_train+\"cropped/\"\n",
    "set_test_cropped_path=set_path_test+\"cropped/\"\n",
    "set_train_raw_path=set_path_train+\"raw/\"\n",
    "set_test_raw_path=set_path_test+\"raw/\""
   ]
  },
  {
   "cell_type": "markdown",
   "metadata": {},
   "source": [
    "### A1. Image preprocessing and loader\n",
    "The training and test pictures must be inputs of same size. These functions are used to crop them to 64x64 pixels."
   ]
  },
  {
   "cell_type": "code",
   "execution_count": 14,
   "metadata": {},
   "outputs": [],
   "source": [
    "#################################################################\n",
    "# DATA PREPARATION\n",
    "#################################################################\n",
    "def prepare_resizecrop(src, out, width, height):\n",
    "    img = Image.open(src)\n",
    "    img = ImageOps.fit(img, (width, height), Image.ANTIALIAS, 0, (0.5, 0.5))\n",
    "    img.save(out)\n",
    "\n",
    "def prepare_crop_train(id):\n",
    "    fro = set_raw_train_path+str(id)+\".jpg\"\n",
    "    dest=set_cropped_train_path+str(id)+\".jpg\"\n",
    "    prepare_resizecrop(fro,dest,64,64)\n",
    "def prepare_crop_test(id):\n",
    "    fro = set_test_raw_path+str(id)+\".jpg\"\n",
    "    dest=set_test_cropped_path+str(id)+\".jpg\"\n",
    "    prepare_resizecrop(fro,dest,64,64)\n",
    "\n",
    "def prepare_crop_all(n_train,n_test):\n",
    "    for i in range(1,n_train):\n",
    "        prepare_crop_train(i)\n",
    "    for i in range(1,n_test):\n",
    "        prepare_crop_test(i)\n"
   ]
  },
  {
   "cell_type": "markdown",
   "metadata": {},
   "source": [
    "The data will be loaded using the load_dataset function, returning a list of $X_{train},Y_{train},X_{test},Y_{test}$"
   ]
  },
  {
   "cell_type": "code",
   "execution_count": 29,
   "metadata": {},
   "outputs": [],
   "source": [
    "#################################################################\n",
    "# DATA LOADING\n",
    "#################################################################\n",
    "def load_data():\n",
    "    X_train=[]\n",
    "    Y_train=[]\n",
    "    X_test=[]\n",
    "    Y_test=[]\n",
    "    \n",
    "    #read X_train\n",
    "    for i in range(1,set_nb_pictures_train):\n",
    "        src=set_train_cropped_path+str(i)+\".jpg\"\n",
    "        X_train.append(np.array(Image.open(src)))\n",
    "    #read X_test\n",
    "    for i in range(1,set_nb_pictures_test):\n",
    "        src=set_test_cropped_path+str(i)+\".jpg\"\n",
    "        X_test.append(np.array(Image.open(src)))\n",
    "        \n",
    "    #read Y_train\n",
    "    with open(set_path_train+\"y.desc\") as f:\n",
    "        content=f.readlines()\n",
    "        content = [x.strip() for x in content] \n",
    "        for line in content:\n",
    "            sp=line.split(\" \")\n",
    "            Y_train.append(int(sp[1]))\n",
    "    #read Y_test\n",
    "    with open(set_path_test+\"y.desc\") as f:\n",
    "        content=f.readlines()\n",
    "        content = [x.strip() for x in content] \n",
    "        for i in range(1,set_nb_pictures_test):\n",
    "            line=content[i]\n",
    "            sp=line.split(\" \")\n",
    "            Y_test.append(int(sp[1]))\n",
    "    return X_train,Y_train,X_test,Y_test"
   ]
  },
  {
   "cell_type": "markdown",
   "metadata": {},
   "source": [
    "### A2. Utils functions\n",
    "These functions will help build the model. We create TensorFlow place holders, initialize weights and biases. We also have a function to convert $Y$ as a one hot vector and finally a batch generator."
   ]
  },
  {
   "cell_type": "code",
   "execution_count": 30,
   "metadata": {},
   "outputs": [],
   "source": [
    "#################################################################\n",
    "# UTIL FUNCTIONS\n",
    "#################################################################\n",
    "\n",
    "def create_placeholders(n_x,n_y):\n",
    "    X=tf.placeholder(tf.float32,shape=(n_x,None), name=\"X\")\n",
    "    Y=tf.placeholder(tf.float32,shape=(n_y,None),name=\"Y\")\n",
    "    return X, Y\n",
    "\n",
    "def initialize_parameters(n_x,n_layer1,n_layer2,n_layer3):\n",
    "    W1 = tf.get_variable(\"W1\", [n_layer1,n_x], initializer = tf.contrib.layers.xavier_initializer(seed = 1))\n",
    "    b1 = tf.get_variable(\"b1\", [n_layer1,1], initializer = tf.zeros_initializer())\n",
    "    W2 =  tf.get_variable(\"W2\", [n_layer2,n_layer1], initializer = tf.contrib.layers.xavier_initializer(seed = 1))\n",
    "    b2 =  tf.get_variable(\"b2\", [n_layer2,1], initializer = tf.zeros_initializer())\n",
    "    W3 =  tf.get_variable(\"W3\", [n_layer3,n_layer2], initializer = tf.contrib.layers.xavier_initializer(seed = 1))\n",
    "    b3 =  tf.get_variable(\"b3\", [n_layer3,1], initializer = tf.zeros_initializer())\n",
    "    parameters = {\"W1\": W1,\n",
    "                  \"b1\": b1,\n",
    "                  \"W2\": W2,\n",
    "                  \"b2\": b2,\n",
    "                  \"W3\": W3,\n",
    "                  \"b3\": b3}\n",
    "    return parameters\n",
    "\n",
    "def convert_to_one_hot(Y,C):\n",
    "    return np.eye(C)[np.asarray(Y).reshape(-1)].T\n",
    "\n",
    "#################################################################\n",
    "# BATCH SHUFFLE\n",
    "#################################################################\n",
    "def random_mini_batches(X, Y, mini_batch_size = 64, seed = 0):\n",
    "    np.random.seed(seed)            # To make your \"random\" minibatches the same as ours\n",
    "    m = X.shape[1]                  # number of training examples\n",
    "    mini_batches = []\n",
    "        \n",
    "    # Step 1: Shuffle (X, Y)\n",
    "    permutation = list(np.random.permutation(m))\n",
    "    shuffled_X = X[:, permutation]\n",
    "    shuffled_Y = Y[:, permutation].reshape((Y.shape[0],m))\n",
    "    \n",
    "    # Step 2: Partition (shuffled_X, shuffled_Y). Minus the end case.\n",
    "    num_complete_minibatches = math.floor(m/mini_batch_size) # number of mini batches of size mini_batch_size in your partitionning\n",
    "    for k in range(0, num_complete_minibatches):\n",
    "        mini_batch_X = shuffled_X[:, k * mini_batch_size: (k+1)*mini_batch_size]\n",
    "        mini_batch_Y = shuffled_Y[:, k * mini_batch_size: (k+1)*mini_batch_size]\n",
    "        mini_batch = (mini_batch_X, mini_batch_Y)\n",
    "        mini_batches.append(mini_batch)\n",
    "    \n",
    "    # Handling the end case (last mini-batch < mini_batch_size)\n",
    "    if m % mini_batch_size != 0:\n",
    "        mini_batch_X = shuffled_X[:, num_complete_minibatches * mini_batch_size:]\n",
    "        mini_batch_Y = shuffled_Y[:, num_complete_minibatches * mini_batch_size:]\n",
    "        mini_batch = (mini_batch_X, mini_batch_Y)\n",
    "        mini_batches.append(mini_batch)\n",
    "    return mini_batches\n"
   ]
  },
  {
   "cell_type": "markdown",
   "metadata": {},
   "source": [
    "***\n",
    "## B. The model\n",
    "### B1. Propagation functions\n",
    "A classical softmax entropy cost is used for the classification. ReLU functions provide the output of the hidden layers."
   ]
  },
  {
   "cell_type": "code",
   "execution_count": 31,
   "metadata": {},
   "outputs": [],
   "source": [
    "#################################################################\n",
    "# COST AND PROPAGATION\n",
    "#################################################################\n",
    "def get_cost(Z3, Y):\n",
    "    logits = tf.transpose(Z3)\n",
    "    labels = tf.transpose(Y)\n",
    "    cost = tf.reduce_mean(tf.nn.softmax_cross_entropy_with_logits(logits = logits, labels = labels))\n",
    "    return cost\n",
    "\n",
    "def forward_propagation(X, parameters):\n",
    "    # Retrieve the parameters from the dictionary \"parameters\" \n",
    "    W1 = parameters['W1']\n",
    "    b1 = parameters['b1']\n",
    "    W2 = parameters['W2']\n",
    "    b2 = parameters['b2']\n",
    "    W3 = parameters['W3']\n",
    "    b3 = parameters['b3']\n",
    "    \n",
    "    Z1 = tf.add(tf.matmul(W1,X),b1)      # Z1 = np.dot(W1, X) + b1\n",
    "    A1 = tf.nn.relu(Z1)                  # A1 = relu(Z1)\n",
    "    Z2 = tf.add(tf.matmul(W2,A1),b2)     # Z2 = np.dot(W2, a1) + b2\n",
    "    A2 = tf.nn.relu(Z2)                  # A2 = relu(Z2)\n",
    "    Z3 = tf.add(tf.matmul(W3,A2),b3)     # Z3 = np.dot(W3,Z2) + b3\n",
    "    \n",
    "    return Z3"
   ]
  },
  {
   "cell_type": "markdown",
   "metadata": {},
   "source": [
    "### B2. Main run function"
   ]
  },
  {
   "cell_type": "markdown",
   "metadata": {},
   "source": [
    "This is the main function that performs the computation. We create a TensorFlow session to run the optimizer over the mini-batches."
   ]
  },
  {
   "cell_type": "code",
   "execution_count": 32,
   "metadata": {},
   "outputs": [],
   "source": [
    "def model(X_train, Y_train, X_test, Y_test, learning_rate = 0.0001,\n",
    "          num_epochs = 1500, minibatch_size = 32, print_cost = True):\n",
    "    ops.reset_default_graph()            # we want to rerun the model without overwriting tf variables\n",
    "    seed = 30                            # to keep consistent results\n",
    "    (n_x, m) = X_train.shape             # (n_x: input size, m : number of examples in the train set)\n",
    "    n_y = Y_train.shape[0]               # n_y : output size\n",
    "    costs = []                           # To keep track of the cost\n",
    "    \n",
    "    X, Y = create_placeholders(n_x, n_y)\n",
    "    parameters = initialize_parameters(n_x,25,12,2)\n",
    "    Z3 = forward_propagation(X, parameters)\n",
    "    cost = get_cost(Z3, Y)\n",
    "    optimizer =  tf.train.AdamOptimizer(learning_rate = learning_rate).minimize(cost)\n",
    "   \n",
    "    init = tf.global_variables_initializer()\n",
    "    with tf.Session() as sess:\n",
    "        sess.run(init)\n",
    "        for epoch in range(num_epochs):\n",
    "            epoch_cost = 0.                           # cost for the current epoch\n",
    "            num_minibatches = int(m / minibatch_size) # number of minibatches of size minibatch_size in the train set\n",
    "            seed = seed + 1\n",
    "            minibatches = random_mini_batches(X_train, Y_train, minibatch_size, seed)\n",
    "            for minibatch in minibatches:\n",
    "                (minibatch_X, minibatch_Y) = minibatch\n",
    "                _ , minibatch_cost = sess.run([optimizer, cost], feed_dict={X: minibatch_X, Y: minibatch_Y})\n",
    "                epoch_cost += minibatch_cost / num_minibatches\n",
    "                costs.append(epoch_cost)   #for the plot\n",
    "        \n",
    "        #plot\n",
    "        plt.plot(np.squeeze(costs))\n",
    "        plt.ylabel('cost')\n",
    "        plt.xlabel('iteration #')\n",
    "        plt.title(\"Evolution of cost, rate =\" + str(learning_rate))\n",
    "        plt.show()\n",
    "\n",
    "        #evaluate\n",
    "        print(Z3)\n",
    "        parameters = sess.run(parameters)\n",
    "        correct_prediction = tf.equal(tf.argmax(Z3), tf.argmax(Y))\n",
    "        accuracy = tf.reduce_mean(tf.cast(correct_prediction, \"float\"))\n",
    "        print (\"Train Accuracy:\", accuracy.eval({X: X_train, Y: Y_train}))\n",
    "        print (\"Test Accuracy:\", accuracy.eval({X: X_test, Y: Y_test}))\n",
    "        \n",
    "        return parameters"
   ]
  },
  {
   "cell_type": "markdown",
   "metadata": {},
   "source": [
    "***\n",
    "## C. Run\n",
    "We now have all the ingredients to run the optimization. Let's load the data, format it and run the model on it."
   ]
  },
  {
   "cell_type": "markdown",
   "metadata": {},
   "source": [
    "### C1. Load data"
   ]
  },
  {
   "cell_type": "code",
   "execution_count": 33,
   "metadata": {},
   "outputs": [
    {
     "data": {
      "text/plain": [
       "<matplotlib.image.AxesImage at 0x7fb1269c0cf8>"
      ]
     },
     "execution_count": 33,
     "metadata": {},
     "output_type": "execute_result"
    },
    {
     "data": {
      "image/png": "[encoded data removed]",
      "text/plain": [
       "<matplotlib.figure.Figure at 0x7fb12c547d30>"
      ]
     },
     "metadata": {},
     "output_type": "display_data"
    }
   ],
   "source": [
    "#load dataset\n",
    "X_train_orig, Y_train_orig, X_test_orig, Y_test_orig = load_data()\n",
    "C=2 #number of classes\n",
    "#example of image\n",
    "plt.imshow(X_train_orig[0])"
   ]
  },
  {
   "cell_type": "markdown",
   "metadata": {},
   "source": [
    "### C2. Format data"
   ]
  },
  {
   "cell_type": "code",
   "execution_count": 34,
   "metadata": {},
   "outputs": [
    {
     "name": "stdout",
     "output_type": "stream",
     "text": [
      "number of training examples = 12\n",
      "number of test examples = 11\n",
      "X_train shape: (12288, 12)\n",
      "X_test shape: (12288, 11)\n",
      "Y_train shape: (2, 12)\n",
      "Y_test shape: (2, 11)\n"
     ]
    }
   ],
   "source": [
    "X_train_orig=np.asarray(X_train_orig)\n",
    "X_train_flatten=X_train_orig.reshape(X_train_orig.shape[0],-1).T\n",
    "X_train=X_train_flatten/255\n",
    "\n",
    "X_test_orig=np.asarray(X_test_orig)\n",
    "X_test_flatten=X_test_orig.reshape(X_test_orig.shape[0],-1).T\n",
    "X_test=X_test_flatten/255\n",
    "\n",
    "Y_train=convert_to_one_hot(Y_train_orig,C)\n",
    "Y_test=convert_to_one_hot(Y_test_orig,C)\n",
    "print (\"number of training examples = \" + str(X_train.shape[1]))\n",
    "print (\"number of test examples = \" + str(X_test.shape[1]))\n",
    "print(\"X_train shape: \"+str(X_train.shape))\n",
    "print(\"X_test shape: \"+str(X_test.shape))\n",
    "print(\"Y_train shape: \"+str(Y_train.shape))\n",
    "print(\"Y_test shape: \"+str(Y_test.shape))\n"
   ]
  },
  {
   "cell_type": "markdown",
   "metadata": {},
   "source": [
    "### C3. Result"
   ]
  },
  {
   "cell_type": "markdown",
   "metadata": {},
   "source": [
    "We run the propagator 30 times in mini-batches of 10 items. Because of the batches, the cost function is not monotonous with respect to the number of iterations, which is normal."
   ]
  },
  {
   "cell_type": "code",
   "execution_count": 35,
   "metadata": {},
   "outputs": [
    {
     "data": {
      "image/png": "[encoded data removed]",
      "text/plain": [
       "<matplotlib.figure.Figure at 0x7fb12689b9e8>"
      ]
     },
     "metadata": {},
     "output_type": "display_data"
    },
    {
     "name": "stdout",
     "output_type": "stream",
     "text": [
      "Tensor(\"Add_2:0\", shape=(2, ?), dtype=float32)\n",
      "Train Accuracy: 1.0\n",
      "Test Accuracy: 0.636364\n"
     ]
    }
   ],
   "source": [
    "parameters = model(X_train, Y_train, X_test, Y_test,0.0001,30,10,True)"
   ]
  },
  {
   "cell_type": "markdown",
   "metadata": {},
   "source": [
    "The algorithms reaches an accuracy of 63% over the test set. The dataset is too small to make any conclusion, but the model is working."
   ]
  },
  {
   "cell_type": "markdown",
   "metadata": {},
   "source": [
    "## Optional: reprocess images\n",
    "Run this script after adding new images"
   ]
  },
  {
   "cell_type": "code",
   "execution_count": 5,
   "metadata": {},
   "outputs": [],
   "source": [
    "#prepare_crop_all(set_nb_pictures_train,set_nb_pictures_test)"
   ]
  },
  {
   "cell_type": "code",
   "execution_count": null,
   "metadata": {},
   "outputs": [],
   "source": []
  }
 ],
 "metadata": {
  "kernelspec": {
   "display_name": "Python 3",
   "language": "python",
   "name": "python3"
  },
  "language_info": {
   "codemirror_mode": {
    "name": "ipython",
    "version": 3
   },
   "file_extension": ".py",
   "mimetype": "text/x-python",
   "name": "python",
   "nbconvert_exporter": "python",
   "pygments_lexer": "ipython3",
   "version": "3.6.3"
  }
 },
 "nbformat": 4,
 "nbformat_minor": 2
}
